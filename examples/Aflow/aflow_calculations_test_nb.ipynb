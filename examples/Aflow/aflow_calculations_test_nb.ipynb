{
 "cells": [
  {
   "cell_type": "code",
   "execution_count": 1,
   "metadata": {},
   "outputs": [
    {
     "name": "stderr",
     "output_type": "stream",
     "text": [
      "distributed.scheduler - INFO - Clear task state\n",
      "distributed.scheduler - INFO -   Scheduler at:  tcp://10.42.14.116:33111\n",
      "distributed.scheduler - INFO -   dashboard at:                     :8787\n",
      "distributed.scheduler - INFO - Receive client connection: Client-5164e634-4a0a-11eb-883e-eea2898f98fb\n",
      "distributed.core - INFO - Starting established connection\n",
      "distributed.scheduler - INFO - Register worker <Worker 'tcp://10.42.14.166:43159', name: 1, memory: 0, processing: 0>\n",
      "distributed.scheduler - INFO - Starting worker compute stream, tcp://10.42.14.166:43159\n",
      "distributed.core - INFO - Starting established connection\n"
     ]
    },
    {
     "name": "stdout",
     "output_type": "stream",
     "text": [
      "Total aflow binaries found =  80945\n",
      "Number of active/inactive bimetallic structures found =  500\n"
     ]
    },
    {
     "name": "stderr",
     "output_type": "stream",
     "text": [
      "distributed.scheduler - INFO - Register worker <Worker 'tcp://10.42.14.165:39499', name: 0, memory: 0, processing: 0>\n",
      "distributed.scheduler - INFO - Starting worker compute stream, tcp://10.42.14.165:39499\n",
      "distributed.core - INFO - Starting established connection\n"
     ]
    },
    {
     "data": {
      "application/vnd.jupyter.widget-view+json": {
       "model_id": "0299aada6abe42019307289dd0a0e6a0",
       "version_major": 2,
       "version_minor": 0
      },
      "text/plain": [
       "VBox()"
      ]
     },
     "metadata": {},
     "output_type": "display_data"
    }
   ],
   "source": [
    "from dask_kubernetes import KubeCluster\n",
    "import dask.bag as db\n",
    "from joblib import Memory\n",
    "from dask.distributed import Client\n",
    "import functools\n",
    "from aflow_support_file import slab_nuclearity, select_bimetallic,get_initial_aflow_results, aflow_object_to_atoms\n",
    "from surface_nuclearity_calculator import slab_enumeration,surface_nuclearity_calculator\n",
    "from dask.distributed import progress\n",
    "from pymatgen.io.ase import AseAtomsAdaptor\n",
    "import dask\n",
    "\n",
    "# Set the up a kube dask cluster\n",
    "cluster = KubeCluster.from_yaml('worker-spec.yml')\n",
    "\n",
    "# Adapt seems to be having problems, used fixed scaling\n",
    "cluster.scale(2)\n",
    "client = Client(cluster)\n",
    "\n",
    "def _worker_upload(dask_worker, *, data, fname):\n",
    "    dask_worker.loop.add_callback(\n",
    "    callback=dask_worker.upload_file,\n",
    "    comm=None,  # not used\n",
    "    filename=fname,\n",
    "    data=data,\n",
    "    load=True)\n",
    "\n",
    "### Code to upload surface_nuclearity code to every worker as they start/restart\n",
    "# https://stackoverflow.com/questions/57118226/how-to-properly-use-dasks-upload-file-to-pass-local-code-to-workers\n",
    "fname_ = ['surface_nuclearity_calculator.py','aflow_support_file.py']\n",
    "for fname in fname_:\n",
    "    with open(fname, 'rb') as f:\n",
    "        data = f.read()\n",
    "        client.register_worker_callbacks(\n",
    "            setup=functools.partial(\n",
    "                _worker_upload, data=data, fname=fname,\n",
    "            )\n",
    "        )\n",
    "\n",
    "\n",
    "# Set up the cache directory - this will also be the local directory on each worker that will store cached results\n",
    "location = './cachedir'\n",
    "memory = Memory(location,verbose=1)\n",
    "\n",
    "# Define the active and inactive elements to consider\n",
    "actives = set(['Pd', 'Pt', 'Rh', 'Ru', 'Ag', 'Ir'])\n",
    "hosts = set(['Zn', 'Cd', 'Ga', 'Al', 'In'])\n",
    "\n",
    "# Gather the aflowlib bulk structures\n",
    "get_initial_aflow_results = memory.cache(get_initial_aflow_results)\n",
    "all_aflow_binaries = get_initial_aflow_results(enthalpy_formation_atom=-0.1)\n",
    "print(\"Total aflow binaries found = \",len(all_aflow_binaries))\n",
    "\n",
    "# Find all of the active/inactive combinations\n",
    "active_inactive_aflow_binaries = list(filter(lambda r: select_bimetallic(r,actives,hosts), \n",
    "                                             all_aflow_binaries))[1000:1500] # There is a problematic AlPd structure that stops this from going over 700\n",
    "print(\"Number of active/inactive bimetallic structures found = \",len(active_inactive_aflow_binaries))\n",
    "\n",
    "# Load all of the bulks into a dask bag, and get the atoms objects from aflowlib\n",
    "active_inactive_aflow_binaries_bag = db.from_sequence(active_inactive_aflow_binaries, \n",
    "                                                      npartitions=len(active_inactive_aflow_binaries))\n",
    "all_structures = active_inactive_aflow_binaries_bag.map(memory.cache(aflow_object_to_atoms))\n",
    "\n",
    "# Enumerate all of the slabs, and repartition into 10k chunks of surfaces to work on\n",
    "all_slabs_list = all_structures.map(memory.cache(slab_enumeration), \n",
    "                                    active_inactive_aflow_binaries_bag)\n",
    "all_slabs_list = all_slabs_list.flatten().repartition(npartitions=10000)\n",
    "\n",
    "# Run the nuclearity calculation on all of the slabs\n",
    "nuclearity_results = all_slabs_list.map(memory.cache(slab_nuclearity),actives)\n",
    "\n",
    "# Compute!\n",
    "nuclearity_results = nuclearity_results.persist()\n",
    "progress(nuclearity_results)"
   ]
  },
  {
   "cell_type": "code",
   "execution_count": null,
   "metadata": {},
   "outputs": [],
   "source": [
    "active_inactive_aflow_binaries"
   ]
  },
  {
   "cell_type": "code",
   "execution_count": null,
   "metadata": {},
   "outputs": [],
   "source": [
    "    env:\n",
    "    - name: OMP_NUM_THREADS\n",
    "      value: 2"
   ]
  }
 ],
 "metadata": {
  "kernelspec": {
   "display_name": "Python 3",
   "language": "python",
   "name": "python3"
  },
  "language_info": {
   "codemirror_mode": {
    "name": "ipython",
    "version": 3
   },
   "file_extension": ".py",
   "mimetype": "text/x-python",
   "name": "python",
   "nbconvert_exporter": "python",
   "pygments_lexer": "ipython3",
   "version": "3.7.8"
  }
 },
 "nbformat": 4,
 "nbformat_minor": 4
}
