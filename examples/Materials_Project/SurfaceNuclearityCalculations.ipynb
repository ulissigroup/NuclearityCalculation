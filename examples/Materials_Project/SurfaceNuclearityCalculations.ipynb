{
 "cells": [
  {
   "cell_type": "markdown",
   "metadata": {},
   "source": [
    "[![Open In Colab](https://colab.research.google.com/assets/colab-badge.svg)](https://colab.research.google.com/github/ulissigroup/NuclearityCalculation/blob/master/examples/SurfaceNuclearityCalculations.ipynb)"
   ]
  },
  {
   "cell_type": "markdown",
   "metadata": {},
   "source": [
    "We need an Atoms object and the corresponding bulk structure to be able to find the surface nuclearity."
   ]
  },
  {
   "cell_type": "code",
   "execution_count": 5,
   "metadata": {},
   "outputs": [],
   "source": [
    "from ase.io.trajectory import Trajectory\n",
    "slab_atoms_list = Trajectory('example.traj')"
   ]
  },
  {
   "cell_type": "code",
   "execution_count": 6,
   "metadata": {},
   "outputs": [],
   "source": [
    "from pymatgen.ext.matproj import MPRester\n",
    "from gaspy import utils\n",
    "\n",
    "unitCell_atoms = slab_atoms_list[124]\n",
    "mpid = 'mp-10901'\n",
    "hosts = {'Zn', 'Cd', 'Ga', 'Al', 'In'}\n",
    "actives = {'Pd', 'Pt', 'Rh', 'Ru', 'Ag', 'Ir'}\n",
    "with MPRester(utils.read_rc('matproj_api_key')) as rester:\n",
    "    bulk_structure = rester.get_structure_by_material_id(mpid,\n",
    "                                                    final=True, \n",
    "                                                    conventional_unit_cell\n",
    "                                                    =True)"
   ]
  },
  {
   "cell_type": "markdown",
   "metadata": {},
   "source": [
    "Here we are using MPRester's get_structure_by_material_id to generate the bulk structure."
   ]
  },
  {
   "cell_type": "code",
   "execution_count": 7,
   "metadata": {},
   "outputs": [
    {
     "data": {
      "text/plain": [
       "Atoms(symbols='Al96Pd64', pbc=True, cell=[[14.782360181891397, 0.0, 0.0], [2.1305270249347834e-15, 13.24853564722313, -2.773017248585752], [0.0, 0.0, 40.606894649926936]], initial_charges=..., initial_magmoms=..., momenta=..., tags=..., calculator=SinglePointCalculator(...))"
      ]
     },
     "execution_count": 7,
     "metadata": {},
     "output_type": "execute_result"
    }
   ],
   "source": [
    "unitCell_atoms"
   ]
  },
  {
   "cell_type": "code",
   "execution_count": 8,
   "metadata": {},
   "outputs": [
    {
     "data": {
      "text/plain": [
       "Structure Summary\n",
       "Lattice\n",
       "    abc : 4.241489931563553 4.241489931563553 5.22117851\n",
       " angles : 90.0 90.0 119.99999999999999\n",
       " volume : 81.34597227116235\n",
       "      A : 2.1207449657817765 -3.673238030629957 0.0\n",
       "      B : 2.1207449657817765 3.673238030629957 0.0\n",
       "      C : 0.0 0.0 5.22117851\n",
       "PeriodicSite: Al (0.0000, 0.0000, 0.0000) [0.0000, 0.0000, 0.0000]\n",
       "PeriodicSite: Al (2.1207, 1.2244, 3.3678) [0.3333, 0.6667, 0.6450]\n",
       "PeriodicSite: Al (2.1207, -1.2244, 1.8534) [0.6667, 0.3333, 0.3550]\n",
       "PeriodicSite: Pd (2.1207, 1.2244, 0.8250) [0.3333, 0.6667, 0.1580]\n",
       "PeriodicSite: Pd (2.1207, -1.2244, 4.3962) [0.6667, 0.3333, 0.8420]"
      ]
     },
     "execution_count": 8,
     "metadata": {},
     "output_type": "execute_result"
    }
   ],
   "source": [
    "bulk_structure"
   ]
  },
  {
   "cell_type": "code",
   "execution_count": 10,
   "metadata": {},
   "outputs": [
    {
     "data": {
      "text/plain": [
       "[3, [3, 3, 3, 3, 3, 3, 3, 3, 3, 3, 3, 3, 3, 3, 3, 3]]"
      ]
     },
     "execution_count": 10,
     "metadata": {},
     "output_type": "execute_result"
    }
   ],
   "source": [
    "from surface_nuclearity import surface_nuclearity_calculator\n",
    "\n",
    "surface_nuclearity_calculator(unitCell_atoms,bulk_structure,actives)"
   ]
  }
 ],
 "metadata": {
  "kernelspec": {
   "display_name": "gaspy_dev",
   "language": "python",
   "name": "connectionmatrix_kernel"
  },
  "language_info": {
   "codemirror_mode": {
    "name": "ipython",
    "version": 3
   },
   "file_extension": ".py",
   "mimetype": "text/x-python",
   "name": "python",
   "nbconvert_exporter": "python",
   "pygments_lexer": "ipython3",
   "version": "3.6.6"
  }
 },
 "nbformat": 4,
 "nbformat_minor": 4
}
